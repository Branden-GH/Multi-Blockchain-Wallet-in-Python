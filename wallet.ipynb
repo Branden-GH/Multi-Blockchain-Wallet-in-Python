{
 "cells": [
  {
   "cell_type": "code",
   "execution_count": 98,
   "id": "3759bbbd-dfbf-45d6-ba8d-dcb61c791bbf",
   "metadata": {},
   "outputs": [],
   "source": [
    "# Import dependencies\n",
    "import subprocess\n",
    "import json\n",
    "from dotenv import load_dotenv\n",
    "from web3.middleware import geth_poa_middleware\n",
    "import os\n",
    "from web3 import Web3\n",
    "from pprint import pprint\n",
    "from constants import *\n",
    "from bit import Key, PrivateKey, PrivateKeyTestnet\n",
    "from bit.network import NetworkAPI\n",
    "from eth_account import Account"
   ]
  },
  {
   "cell_type": "code",
   "execution_count": 99,
   "id": "a1771279-2bf4-4dfd-80ef-0e83c78358c7",
   "metadata": {},
   "outputs": [],
   "source": [
    "# Load and set environment variables\n",
    "load_dotenv()\n",
    "mnemonic=os.getenv(\"mnemonic\")\n",
    "w3 = Web3(Web3.HTTPProvider(\"http://127.0.0.1:8545\"))"
   ]
  },
  {
   "cell_type": "code",
   "execution_count": 100,
   "id": "0e5a843b-7c49-4956-8051-5c1b93917975",
   "metadata": {},
   "outputs": [],
   "source": [
    "# Create a function called `derive_wallets`\n",
    "def derive_wallets(mnemonic, coin, numderive):\n",
    "    \"\"\"Use the subprocess library to call the php file script from Python\"\"\"\n",
    "    command = f'php ./hd-wallet-derive/hd-wallet-derive.php -g --mnemonic=\"{mnemonic}\" --numderive=\"{numderive}\" --coin=\"{coin}\" --format=json'\n",
    "   \n",
    "    p = subprocess.Popen(command, stdout=subprocess.PIPE, shell=True)\n",
    "    (output, err) = p.communicate()\n",
    "   \n",
    "    keys = json.loads(output)\n",
    "    return  keys\n"
   ]
  },
  {
   "cell_type": "code",
   "execution_count": 101,
   "id": "31b64121-fb8c-40b2-881d-a11cd0ae69d0",
   "metadata": {},
   "outputs": [
    {
     "name": "stdout",
     "output_type": "stream",
     "text": [
      "{'eth', 'btc', 'btc-test'}\n"
     ]
    }
   ],
   "source": [
    "# Create a dictionary object called coins to store the output from `derive_wallets`.\n",
    "coins = {\"eth\", \"btc\", \"btc-test\"}\n",
    "print(coins)\n",
    "numderive = 3\n"
   ]
  },
  {
   "cell_type": "code",
   "execution_count": 102,
   "id": "56a02204-5510-48bb-af99-d9001d340c04",
   "metadata": {},
   "outputs": [],
   "source": [
    "key = {}\n",
    "for coin in coins:\n",
    "    key[coin]= derive_wallets(os.getenv('mnemonic'), coin, numderive=3)"
   ]
  },
  {
   "cell_type": "code",
   "execution_count": 103,
   "id": "2a70ddd5-93a5-4bdb-a9a5-e3d0e03cc205",
   "metadata": {},
   "outputs": [
    {
     "name": "stdout",
     "output_type": "stream",
     "text": [
      "\"0xbdcd89c18c95bd64ca9a37ee12432d27913b921d1f9434a542e452f7ee05fcf1\"\n",
      "\"cUxqurDa1GvAtWjGH7MW7TMoRNoTg9bkghyvCKEZjWoR2UUSc7fY\"\n"
     ]
    }
   ],
   "source": [
    "eth_PrivateKey = key[\"eth\"][0]['privkey']\n",
    "btc_PrivateKey = key[\"btc-test\"][0]['privkey']\n",
    "\n",
    "print(json.dumps(eth_PrivateKey, indent=4, sort_keys=True))\n",
    "print(json.dumps(btc_PrivateKey, indent=4, sort_keys=True))"
   ]
  },
  {
   "cell_type": "code",
   "execution_count": 104,
   "id": "59aa2922-a30d-4662-b1bc-ce4012987bb5",
   "metadata": {},
   "outputs": [
    {
     "name": "stdout",
     "output_type": "stream",
     "text": [
      "{\n",
      "    \"btc\": [\n",
      "        {\n",
      "            \"address\": \"17ZUhCWLYpHZm79nQFTFQLaFwvxSfd1EBx\",\n",
      "            \"index\": 0,\n",
      "            \"path\": \"m/44'/0'/0'/0/0\",\n",
      "            \"privkey\": \"L4jdVndebH2k3JykQesK8bxkYX2FAEQGTqhU9c6gFvQLemaz1yh4\",\n",
      "            \"pubkey\": \"036e69cb51fca260aae092cb4d96fb180ad47ceb5095d97d72fd334ef84618b21b\",\n",
      "            \"pubkeyhash\": \"47f52eb8006d26ea37b22e82cdbd999b819e6515\",\n",
      "            \"xprv\": \"xprvA2osriaVTKgz8Yo4SqQ9mFE2i5dvLUiUT2SbEa2jPeLzGU85E5XL9J8G8qi3Wkx717ad5pXyPy25FRQxzwmdGfkZfpYr5Z2sqwdsRsGYUom\",\n",
      "            \"xpub\": \"xpub6FoEGE7PHhFHM2sXYrwA8PAmG7UQjwSKpFNC2xSLwysy9GTDmcqah6Sjz7pREtkG7DzQ7KQaXUd1CRMxC7vfyDNnCA1bVHKmJ7hcaMRS7Am\"\n",
      "        },\n",
      "        {\n",
      "            \"address\": \"1GCD1qRU853a2ngBaES39KAyTQr99vxXvK\",\n",
      "            \"index\": 1,\n",
      "            \"path\": \"m/44'/0'/0'/0/1\",\n",
      "            \"privkey\": \"L4W9amSCpK57EtaTor9oqYFNT62n28BPtFnyGkpF8Vg2JEy5mcF2\",\n",
      "            \"pubkey\": \"027e06d900cf36e2aecf4c33eb2987ebcb15049c4f31017578ce01e0b2809752d2\",\n",
      "            \"pubkeyhash\": \"a6a87dcf80ed72e4c1d06ed5664c71454f789a66\",\n",
      "            \"xprv\": \"xprvA2osriaVTKgzBtnV6eYXpgrRgfceAcrgQdr4yGZFHS7KF7D9kULoHG7BsHz8JBetVgas14Tf4BhFybaAKxpYmKG6Ye8PbZUPtxt7LkyKSJy\",\n",
      "            \"xpub\": \"xpub6FoEGE7PHhFHQNrxCg5YBpoAEhT8a5aXmrmfmexrqmeJ7uYJJ1f3q4RfiYKgppEZMZYm3yA51tLd3YSKN8cxALzStmXupE8D1a4h46jVrGb\"\n",
      "        },\n",
      "        {\n",
      "            \"address\": \"14TEAN9fNR66EqHFVYYiDMW7ubg5vYUZyp\",\n",
      "            \"index\": 2,\n",
      "            \"path\": \"m/44'/0'/0'/0/2\",\n",
      "            \"privkey\": \"L412ZG7A1yBJXLyr9cftNcN2r6g5TfnQ7ipgud7yCQqebd8ZQxar\",\n",
      "            \"pubkey\": \"02363b37bff67864aa28aa7acdad0241197bf8f74e41b9bdb7afc4f24ad6e0c2f7\",\n",
      "            \"pubkeyhash\": \"25de2dd258451411fcd85a5a1954173cc9e959eb\",\n",
      "            \"xprv\": \"xprvA2osriaVTKgzDX3WaPyhLYAmYbsmbeZLvhiKfinXRWd49iFRaYj33wmNnJcmpY2Z3tiexcRiWsVAKHgHaDSJsURYmQjNtrk1hbzjVxAckPp\",\n",
      "            \"xpub\": \"xpub6FoEGE7PHhFHS17ygRWhhg7W6diG17HCHvdvU7C8yrA32Waa863Hbk5rdYXK6nYgKJ1dS5f9weXXii4xL5KLK9gLYJqRUmaBHeEhuSSTVeb\"\n",
      "        }\n",
      "    ],\n",
      "    \"btc-test\": [\n",
      "        {\n",
      "            \"address\": \"mv791vkCdMEkV3D95u6WY6dKVC3fNffqkZ\",\n",
      "            \"index\": 0,\n",
      "            \"path\": \"m/44'/1'/0'/0/0\",\n",
      "            \"privkey\": \"cUxqurDa1GvAtWjGH7MW7TMoRNoTg9bkghyvCKEZjWoR2UUSc7fY\",\n",
      "            \"pubkey\": \"03ae7763f48afea82109fde354439d984fd284b45252f2e35aae9bd1100f9d441f\",\n",
      "            \"pubkeyhash\": \"a008da99f38bb77c78ce7164c8801acd7873f88b\",\n",
      "            \"xprv\": \"tprv8ji2Y4tXs5VbrRGgYWpaitAjWhj2EmfhkzWE2t4ZaobmUuV3hZnD5HJ3tdWrRPemxh9pPP8nqz9fBWmpRAMmpsjd2wCSXuRD8gZbutqb2Ub\",\n",
      "            \"xpub\": \"tpubDGQ4gUvn1TBGjtJUSAVB8Hpr5jExQ6rcLJ71KQ6s15QAKPjpKxboFmuv4n4L1U2buUMkamkjPSDc2jYJVfbtPSUAgmiccfTFgU2hkReju4b\"\n",
      "        },\n",
      "        {\n",
      "            \"address\": \"n4bnXYUCXZhvZQPcq3xLm8dPVdQtbkyvTy\",\n",
      "            \"index\": 1,\n",
      "            \"path\": \"m/44'/1'/0'/0/1\",\n",
      "            \"privkey\": \"cUyfHScuGUSL9eXggASqEpa1m9EnW8ogh35LiAfhkPJnNMGZ3Nsb\",\n",
      "            \"pubkey\": \"02f2294c2be645a0f27de8081f377a52693d78439853f8e7b4602d1e78447e2cb4\",\n",
      "            \"pubkeyhash\": \"fd34d1c436d927b3833f8ae075521332b0eda994\",\n",
      "            \"xprv\": \"tprv8ji2Y4tXs5VbtE7PyaqkCbVPV5imbuMj7Z2KrASBzfe8psQJ228oXeSx6tY13EyZVKHo2Qjd3dcJdo64DRjsrChespEiCByw9i4Qex3rYJT\",\n",
      "            \"xpub\": \"tpubDGQ4gUvn1TBGmh9BsEWLc19W47EhmEYdgrd78gUVQwSXfMf4eQxPi94pH1eMtpzu5itdowAUXLerETHBsSAJ3nKjZGrFmeiHL6VxpG7ypPc\"\n",
      "        },\n",
      "        {\n",
      "            \"address\": \"mpt8rAR3xj7Wj7HpirWzq3JByieB8VnZRL\",\n",
      "            \"index\": 2,\n",
      "            \"path\": \"m/44'/1'/0'/0/2\",\n",
      "            \"privkey\": \"cUhEckgdq9WrVF3dP2o2pqyFUUv9MVs2Y47EhDvafBE3bSVdk7F1\",\n",
      "            \"pubkey\": \"021357e20c9f1db7b549b1c58a93eed6f2a9396c4277d956a6e1faedb6f492cabf\",\n",
      "            \"pubkeyhash\": \"66baad4d1abd4a75b17d08066aec9a6a48cc0fa9\",\n",
      "            \"xprv\": \"tprv8ji2Y4tXs5Vbvq6yprmzrnSgVFVxdUfu1CQkvYMar1BDSYsiBwtEbvzf8rzgDr89DHMk8SsTQAJXEedGSFhKriNnmq2NE9JUFbWV4TgUsbq\",\n",
      "            \"xpub\": \"tpubDGQ4gUvn1TBGpJ8miWSbGC6o4H1tnoroaW1YD4PtGGycH38UpLhpnRcXJxUdL1F83icTf3B6Xr3XEqgn4gaRqgy3biy5r4oaaRoHLGnrW2a\"\n",
      "        }\n",
      "    ],\n",
      "    \"eth\": [\n",
      "        {\n",
      "            \"address\": \"0x517D0df56ec10D69a9742A125d4f7ed002c458F5\",\n",
      "            \"index\": 0,\n",
      "            \"path\": \"m/44'/60'/0'/0/0\",\n",
      "            \"privkey\": \"0xbdcd89c18c95bd64ca9a37ee12432d27913b921d1f9434a542e452f7ee05fcf1\",\n",
      "            \"pubkey\": \"02fa7df5226fe26e5845a79ee71fdf12cab7c287e54e6407bfc82a38f4c2fe2dbd\",\n",
      "            \"pubkeyhash\": \"a2390135ed593bcf06ea3016b391cd3bfb77e363\",\n",
      "            \"xprv\": \"xprvA2hFZwgsnoPjfKh9AUaQGcpSiemort8MRSxBzU9bK66MzsTSh71mvWj9g4P5vyAcxv7dCCrA73XoN5Ce86VgnstMCJXYa7ayjaTKaqL2hHB\",\n",
      "            \"xpub\": \"xpub6FgbyTDmdAx2somcGW7QdkmBGgcJGLrCnfsnnrZCsRdLsfnbEeL2UK3dXKsabWzzkurZ258Wu66MGrvTMta9zUrjLtD8pGwximuhqRAb3sC\"\n",
      "        },\n",
      "        {\n",
      "            \"address\": \"0xe63932EbaCfF681Bb417905Df8369E480AE0DbE1\",\n",
      "            \"index\": 1,\n",
      "            \"path\": \"m/44'/60'/0'/0/1\",\n",
      "            \"privkey\": \"0x9b763301244b22be9353412566b911d23f3eb9b19889d747fcfde60dd5f4701c\",\n",
      "            \"pubkey\": \"03176ee3c19b10f1e67961e3736bca540f8a7e9518c372c0392027b7ec73c8003e\",\n",
      "            \"pubkeyhash\": \"cb0e10f04df0e1bfa425cb5a81d01bd32e53837f\",\n",
      "            \"xprv\": \"xprvA2hFZwgsnoPjhQ5F2Gc5dKcXEuxH6K5aF5WCRR8DUYY5br41W4XXq8sngfhdoCUDNi4UcpW8tp4yFFu4zNsTjPB6cQ8mmbmJwNCJCqNhjXP\",\n",
      "            \"xpub\": \"xpub6FgbyTDmdAx2ut9i8J95zTZFnwnmVmoRcJRoDoXq2t54UePA3bqnNwCGXwfzvXFjTWJB1Su799NB23dUNgm8FDGTW8Kp55qnfafCyircDD2\"\n",
      "        },\n",
      "        {\n",
      "            \"address\": \"0x79E6DEB27Cb0b65f7f420db9d16e6335a7195688\",\n",
      "            \"index\": 2,\n",
      "            \"path\": \"m/44'/60'/0'/0/2\",\n",
      "            \"privkey\": \"0x2b026c173bc62e6540307563cc95b5d56af559037cb239319675c5359fc7c7c2\",\n",
      "            \"pubkey\": \"02f350d885c1aaef0507a0a45841650854b43b6cbe2f9166eff82d2b940817a5c0\",\n",
      "            \"pubkeyhash\": \"99c0a7dded53988cdeef53f45eb1f66a9e9620f6\",\n",
      "            \"xprv\": \"xprvA2hFZwgsnoPjkoUittGEd8BdEAKWCHd7YWGHGc4nZbpMk1N2Vrgfo6td3g32upmxsUR1aip3nnaT28JWVoPHRRHyTFeCQwARfksnL72Gsri\",\n",
      "            \"xpub\": \"xpub6FgbyTDmdAx2yHZBzuoEzG8MnC9zbkLxujBt4zUQ7wMLcohB3PzvLuD6txb1ukTBnJmqtBFC21uZXQPYzNAAQrscSXNpssctRFbvajzSUoP\"\n",
      "        }\n",
      "    ]\n",
      "}\n"
     ]
    }
   ],
   "source": [
    "print(json.dumps(key, indent=4, sort_keys=True))"
   ]
  },
  {
   "cell_type": "code",
   "execution_count": 105,
   "id": "73a4494d-ae32-49bc-97f1-79f963c5c510",
   "metadata": {},
   "outputs": [],
   "source": [
    "# Create a function called `priv_key_to_account` that converts privkey strings to account objects.\n",
    "\n",
    "def priv_key_to_account(coin,priv_key):\n",
    "    print(coin)\n",
    "    print(priv_key)\n",
    "    if coin == ETH:\n",
    "        return Account.privateKeyToAccount(priv_key)\n",
    "    elif coin == BTCTEST:\n",
    "        return PrivateKeyTestnet(priv_key)\n",
    "\n",
    "\n",
    "\n",
    "\n"
   ]
  },
  {
   "cell_type": "code",
   "execution_count": 106,
   "id": "7e6a0b08-f7b8-48e3-997b-0678e5e6a1d5",
   "metadata": {},
   "outputs": [],
   "source": [
    "# Create a function called `create_tx` that creates an unsigned transaction appropriate metadata.\n",
    "def create_tx(coin,account, recipient, amount):\n",
    "    if coin == ETH: \n",
    "        gasEstimate = w3.eth.estimateGas(\n",
    "            {\"from\":eth_acc.address, \"to\":recipient, \"value\": amount}\n",
    "        )\n",
    "        return { \n",
    "            \"from\": eth_acc.address,\n",
    "            \"to\": recipient,\n",
    "            \"value\": amount,\n",
    "            \"gasPrice\": w3.eth.gasPrice,\n",
    "            \"gas\": gasEstimate,\n",
    "            \"nonce\": w3.eth.getTransactionCount(eth_acc.address)\n",
    "        }\n",
    "    \n",
    "    elif coin == BTCTEST:\n",
    "        return PrivateKeyTestnet.prepare_transaction(account.address, [(recipient, amount, BTC)])"
   ]
  },
  {
   "cell_type": "code",
   "execution_count": 107,
   "id": "ff15157a-656e-491a-a2dd-94beb379bacb",
   "metadata": {},
   "outputs": [],
   "source": [
    "# Create a function called `send_tx` that calls `create_tx`, signs and sends the transaction.\n",
    "def send_txn(coin,account,recipient, amount):\n",
    "    txn = create_tx(coin, account, recipient, amount)\n",
    "    if coin == ETH:\n",
    "        signed_txn = eth_acc.sign_transaction(txn)\n",
    "        result = w3.eth.sendRawTransaction(signed_txn.rawTransaction)\n",
    "        print(result.hex())\n",
    "        return result.hex()\n",
    "    elif coin == BTCTEST:\n",
    "        tx_btctest = create_tx(coin, account, recipient, amount)\n",
    "        signed_txn = account.sign_transaction(txn)\n",
    "        print(signed_txn)\n",
    "        return NetworkAPI.broadcast_tx_testnet(signed_txn)"
   ]
  },
  {
   "cell_type": "code",
   "execution_count": 108,
   "id": "293948cd-a0f5-482f-91f9-a22fc97188b9",
   "metadata": {},
   "outputs": [],
   "source": [
    "## BTC TEST Transactions"
   ]
  },
  {
   "cell_type": "code",
   "execution_count": 109,
   "id": "f0251f59-3745-4098-89ec-163cd76feea9",
   "metadata": {},
   "outputs": [
    {
     "name": "stdout",
     "output_type": "stream",
     "text": [
      "btc-test\n",
      "cUxqurDa1GvAtWjGH7MW7TMoRNoTg9bkghyvCKEZjWoR2UUSc7fY\n"
     ]
    }
   ],
   "source": [
    "btc_acc = priv_key_to_account(BTCTEST,btc_PrivateKey)"
   ]
  },
  {
   "cell_type": "code",
   "execution_count": 110,
   "id": "83dea68e-3f6b-4a28-83d3-7e64f7e684db",
   "metadata": {},
   "outputs": [
    {
     "data": {
      "text/plain": [
       "'{\"unspents\":[{\"amount\":121523,\"confirmations\":18,\"script\":\"76a914a008da99f38bb77c78ce7164c8801acd7873f88b88ac\",\"txid\":\"6a9bb1d9a137831ac9134164845c304c44213cf8b2df5555ec3653021775639d\",\"txindex\":1,\"type\":\"p2pkh\",\"vsize\":148,\"segwit\":false,\"sequence\":4294967295}],\"outputs\":[[\"mv791vkCdMEkV3D95u6WY6dKVC3fNffqkZ\",10000],[\"mv791vkCdMEkV3D95u6WY6dKVC3fNffqkZ\",88471]]}'"
      ]
     },
     "execution_count": 110,
     "metadata": {},
     "output_type": "execute_result"
    }
   ],
   "source": [
    "create_tx(BTCTEST,btc_acc,\"mv791vkCdMEkV3D95u6WY6dKVC3fNffqkZ\", 0.0001)"
   ]
  },
  {
   "cell_type": "code",
   "execution_count": 111,
   "id": "4a29aee1-f644-4920-8ffe-0ad666608f7b",
   "metadata": {},
   "outputs": [
    {
     "name": "stdout",
     "output_type": "stream",
     "text": [
      "01000000019d637517025336ec5555dfb2f83c21444c305c84644113c91a8337a1d9b19b6a010000006a47304402203fe4371d8750d3355f87d42602696c230e9f64759c627204a22c5f6699694d2002203dee18c8b8ed3394096fcc3b8fbeeb2201e957a786935c512a5086f8122b1a8e012103ae7763f48afea82109fde354439d984fd284b45252f2e35aae9bd1100f9d441fffffffff02e8030000000000001976a9148c5bf3cb05705fe9512d23b229c4253e82ba817988acbf7c0100000000001976a914a008da99f38bb77c78ce7164c8801acd7873f88b88ac00000000\n"
     ]
    }
   ],
   "source": [
    "# Send BTC Transaction\n",
    "send_txn(BTCTEST,btc_acc,\"mtK73sNPY9CKuzVvpv4W1969AD1UmGGfsX\", 0.00001)"
   ]
  },
  {
   "cell_type": "code",
   "execution_count": null,
   "id": "86e61db0-03b6-4915-8050-92f957ec8914",
   "metadata": {},
   "outputs": [],
   "source": [
    "# ETH Test Transactions"
   ]
  },
  {
   "cell_type": "code",
   "execution_count": 113,
   "id": "1ba333c3-1990-4f7e-99e8-b754c22d5d45",
   "metadata": {},
   "outputs": [],
   "source": [
    "from web3.middleware import geth_poa_middleware\n",
    "\n",
    "w3.middleware_onion.inject(geth_poa_middleware, layer=0)\n"
   ]
  },
  {
   "cell_type": "code",
   "execution_count": 114,
   "id": "d19e65cd-a220-494e-a839-89e37ddabe24",
   "metadata": {},
   "outputs": [],
   "source": [
    "# Connecting to HTTP with address\n",
    "w3 = Web3(Web3.HTTPProvider(\"http://127.0.0.1:8545/762e30385c647fa440ad0eeb4637b79bb39ae350d115334f37e846739533b6e8\"))\n",
    "\n"
   ]
  },
  {
   "cell_type": "code",
   "execution_count": 115,
   "id": "897a6e52-37e4-4948-9eef-8e32c59b47b3",
   "metadata": {},
   "outputs": [
    {
     "data": {
      "text/plain": [
       "True"
      ]
     },
     "execution_count": 115,
     "metadata": {},
     "output_type": "execute_result"
    }
   ],
   "source": [
    "# Connection Test\n",
    "w3.isConnected()"
   ]
  },
  {
   "cell_type": "code",
   "execution_count": 116,
   "id": "b4095825-d24b-4aa0-a684-f281c0efc509",
   "metadata": {},
   "outputs": [],
   "source": [
    "#Mic-check "
   ]
  },
  {
   "cell_type": "code",
   "execution_count": 145,
   "id": "1611efce-d39b-4339-b416-4bdddbea2f46",
   "metadata": {},
   "outputs": [
    {
     "data": {
      "text/plain": [
       "904625697166532776746648320380374280103671755200316906558262375061821325312"
      ]
     },
     "execution_count": 145,
     "metadata": {},
     "output_type": "execute_result"
    }
   ],
   "source": [
    "w3.eth.getBalance(\"0xF5D5964a196EfDF5076D2EbE9222D515dafd1B8a\")"
   ]
  },
  {
   "cell_type": "code",
   "execution_count": 147,
   "id": "688f3a9e-6b63-4fc7-9f18-148ed3d098c6",
   "metadata": {},
   "outputs": [],
   "source": [
    "def create_raw_tx(account, recipient, amount):\n",
    "    gasEstimate = w3.eth.estimateGas(\n",
    "        {\"from\": account.address, \"to\": recipient, \"value\": amount}\n",
    "    )\n",
    "    return {\n",
    "        \"from\": account.address,\n",
    "        \"to\": recipient,\n",
    "        \"value\": amount,\n",
    "        \"gasPrice\": w3.eth.gasPrice,\n",
    "        \"gas\": gasEstimate,\n",
    "        \"nonce\": w3.eth.getTransactionCount(account.address),\n",
    "    }\n",
    "\n"
   ]
  },
  {
   "cell_type": "code",
   "execution_count": 148,
   "id": "2e8c6cf1-54fb-443c-b5d5-9026ec6c94c2",
   "metadata": {},
   "outputs": [],
   "source": [
    "def send_tx(account, recipient, amount):\n",
    "    tx = create_raw_tx(account, recipient, amount)\n",
    "    signed_tx = account.sign_transaction(tx)\n",
    "    result = w3.eth.sendRawTransaction(signed_tx.rawTransaction)\n",
    "    print(result.hex())\n",
    "    return result.hex()\n",
    "\n",
    "\n"
   ]
  },
  {
   "cell_type": "code",
   "execution_count": 149,
   "id": "99a4ef78-e4ab-4a9e-8c38-66fe4a993dbd",
   "metadata": {},
   "outputs": [],
   "source": [
    "## Confirmation of Transaction"
   ]
  },
  {
   "cell_type": "code",
   "execution_count": 151,
   "id": "089413c2-1b27-49f3-8d0e-88fd3b86f634",
   "metadata": {},
   "outputs": [
    {
     "data": {
      "text/plain": [
       "844118827091047554464641041613674348052465730571"
      ]
     },
     "execution_count": 151,
     "metadata": {},
     "output_type": "execute_result"
    }
   ],
   "source": [
    "w3.eth.getBalance(\"0xF5D5964a196EfDF5076D2EbE9222D515dafd1B8a\")\n",
    "\n",
    "#0xF5D5964a196EfDF5076D2EbE9222D515dafd1B8a\n",
    "#0x93dB98E9aBaFFf52ba1bCEB835d6c834b546440B"
   ]
  },
  {
   "cell_type": "code",
   "execution_count": null,
   "id": "956c777c-5e0e-438b-890c-4e14751cd85e",
   "metadata": {},
   "outputs": [],
   "source": []
  }
 ],
 "metadata": {
  "kernelspec": {
   "display_name": "Python 3",
   "language": "python",
   "name": "python3"
  },
  "language_info": {
   "codemirror_mode": {
    "name": "ipython",
    "version": 3
   },
   "file_extension": ".py",
   "mimetype": "text/x-python",
   "name": "python",
   "nbconvert_exporter": "python",
   "pygments_lexer": "ipython3",
   "version": "3.8.5"
  }
 },
 "nbformat": 4,
 "nbformat_minor": 5
}
